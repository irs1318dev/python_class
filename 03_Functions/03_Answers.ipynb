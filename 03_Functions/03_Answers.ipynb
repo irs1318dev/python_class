{
 "cells": [
  {
   "cell_type": "markdown",
   "metadata": {},
   "source": [
    "### Section 4.6 Exercise #1\n",
    "Define a function in a Jupyter notebook cell that accepts one parameter and prints that parameter three times.\n",
    "\n",
    "In a different Jupyter notebook cell, call the function several different times with different arguments."
   ]
  },
  {
   "cell_type": "code",
   "execution_count": 3,
   "metadata": {},
   "outputs": [],
   "source": [
    "def print_three_times(print_this):\n",
    "    \"\"\"Prints the function's input three times.\n",
    "    \n",
    "    Args:\n",
    "        print_this: a string.\n",
    "        \n",
    "    Returns:\n",
    "        Nothing\n",
    "    \"\"\"\n",
    "    for idx in range(3):\n",
    "        print(print_this)   "
   ]
  },
  {
   "cell_type": "code",
   "execution_count": 4,
   "metadata": {},
   "outputs": [
    {
     "name": "stdout",
     "output_type": "stream",
     "text": [
      "Functions are rad.\n",
      "Functions are rad.\n",
      "Functions are rad.\n"
     ]
    }
   ],
   "source": [
    "print_three_times(\"Functions are rad.\")"
   ]
  },
  {
   "cell_type": "markdown",
   "metadata": {},
   "source": [
    "### Section 4.6 Exercise #2\n",
    "Define and run a function with two parameters.\n",
    "* The function should add the two parameters and return the sum.\n",
    "* Call the function and save the return valuable in a variable\n",
    "* Print the variable that contains the function's return value"
   ]
  },
  {
   "cell_type": "code",
   "execution_count": 5,
   "metadata": {},
   "outputs": [],
   "source": [
    "def add_two_numbers(param1, param2):\n",
    "    \"\"\"Adds two numbers.\n",
    "    \n",
    "    Args:\n",
    "        param1: a number\n",
    "        param2: another number\n",
    "        \n",
    "    Returns:\n",
    "        The sum of param1 and param2\n",
    "    \"\"\"\n",
    "    return param1 + param2"
   ]
  },
  {
   "cell_type": "code",
   "execution_count": 6,
   "metadata": {},
   "outputs": [
    {
     "name": "stdout",
     "output_type": "stream",
     "text": [
      "31\n"
     ]
    }
   ],
   "source": [
    "sum = add_two_numbers(13, 18)\n",
    "print(sum)"
   ]
  },
  {
   "cell_type": "markdown",
   "metadata": {},
   "source": [
    "### Section 4.7 Exercise #1\n",
    "Define a function that multiplies two numbers and returns the product.\n",
    "* The function should accept either one or two arguments.\n",
    "* If the function is called with two arguments, the function should return the product of the two arguments\n",
    "* If the function is called with one argument, it should return that argument multiplied by 1318."
   ]
  },
  {
   "cell_type": "code",
   "execution_count": 7,
   "metadata": {},
   "outputs": [],
   "source": [
    "def multiply_stuff(param1, param2=1318):\n",
    "    \"\"\"Multiplies two numbers.\n",
    "    \n",
    "    If only one argument is provided, the argument will be multiplied\n",
    "    by 1,318.\n",
    "    \n",
    "    Args:\n",
    "        param1: a number\n",
    "        param2: another number. Optional. Defaults to 1318.\n",
    "        \n",
    "    Returns:\n",
    "        If two arguments are provided, returns the product of the two\n",
    "        numbers.\n",
    "        \n",
    "        If one argument is provided, returns the product of the\n",
    "        argument with 1,318.\n",
    "    \"\"\"\n",
    "    return param1 * param2"
   ]
  },
  {
   "cell_type": "code",
   "execution_count": 8,
   "metadata": {},
   "outputs": [
    {
     "data": {
      "text/plain": [
       "6"
      ]
     },
     "execution_count": 8,
     "metadata": {},
     "output_type": "execute_result"
    }
   ],
   "source": [
    "multiply_stuff(2, 3)"
   ]
  },
  {
   "cell_type": "code",
   "execution_count": 9,
   "metadata": {},
   "outputs": [
    {
     "data": {
      "text/plain": [
       "2636"
      ]
     },
     "execution_count": 9,
     "metadata": {},
     "output_type": "execute_result"
    }
   ],
   "source": [
    "multiply_stuff(2)"
   ]
  },
  {
   "cell_type": "markdown",
   "metadata": {},
   "source": [
    "### Section 4.7.2 Exercise #1\n",
    "Write a function that accepts two arguments.\n",
    "* The function should divide the first argument by the second argument and return the quotient\n",
    "* Call the function using positional arguments.\n",
    "* Call the function using keyword arguments, with the 2nd argument placed before the 1st argument in the function call"
   ]
  },
  {
   "cell_type": "code",
   "execution_count": 10,
   "metadata": {},
   "outputs": [],
   "source": [
    "def divide_stuff(dividend, divisor):\n",
    "    \"\"\"Divides one argument by another.\n",
    "    \n",
    "    Args:\n",
    "        dividend: a number.\n",
    "        divisor: another number.\n",
    "        \n",
    "    Returns:\n",
    "        The quotient of dividen/divisor\n",
    "    \"\"\"\n",
    "    return dividend / divisor"
   ]
  },
  {
   "cell_type": "code",
   "execution_count": 11,
   "metadata": {},
   "outputs": [
    {
     "data": {
      "text/plain": [
       "2.0"
      ]
     },
     "execution_count": 11,
     "metadata": {},
     "output_type": "execute_result"
    }
   ],
   "source": [
    "divide_stuff(10, 5)"
   ]
  },
  {
   "cell_type": "code",
   "execution_count": 12,
   "metadata": {},
   "outputs": [
    {
     "data": {
      "text/plain": [
       "0.5"
      ]
     },
     "execution_count": 12,
     "metadata": {},
     "output_type": "execute_result"
    }
   ],
   "source": [
    "divide_stuff(5, 10)"
   ]
  },
  {
   "cell_type": "code",
   "execution_count": 13,
   "metadata": {},
   "outputs": [
    {
     "data": {
      "text/plain": [
       "2.0"
      ]
     },
     "execution_count": 13,
     "metadata": {},
     "output_type": "execute_result"
    }
   ],
   "source": [
    "divide_stuff(divisor=5, dividend=10)"
   ]
  },
  {
   "cell_type": "markdown",
   "metadata": {},
   "source": [
    "### Function Ex. #1\n",
    "Write a function that calculates the area of a circle given the radius."
   ]
  },
  {
   "cell_type": "code",
   "execution_count": 8,
   "metadata": {},
   "outputs": [],
   "source": [
    "import math\n",
    "\n",
    "def area_circ(radius):\n",
    "    \"\"\"Calculates the radius of a circle.\n",
    "    \n",
    "    Args:\n",
    "        radius: a number.\n",
    "        \n",
    "    Returns:\n",
    "        A float value that is the area of a circle with the given\n",
    "        radius.\n",
    "    \"\"\"\n",
    "    return math.pi * radius**2"
   ]
  },
  {
   "cell_type": "code",
   "execution_count": 10,
   "metadata": {},
   "outputs": [
    {
     "data": {
      "text/plain": [
       "12.566370614359172"
      ]
     },
     "execution_count": 10,
     "metadata": {},
     "output_type": "execute_result"
    }
   ],
   "source": [
    "area_circ(2)"
   ]
  },
  {
   "cell_type": "code",
   "execution_count": 14,
   "metadata": {},
   "outputs": [
    {
     "data": {
      "text/plain": [
       "0.9999999999999999"
      ]
     },
     "execution_count": 14,
     "metadata": {},
     "output_type": "execute_result"
    }
   ],
   "source": [
    "area_circ(1/math.sqrt(math.pi))"
   ]
  },
  {
   "cell_type": "markdown",
   "metadata": {},
   "source": [
    "### Function Ex. #2\n",
    "Write a function that takes the number of teams at a competition and the number of matches per team and calculates the number of qualification matches that will be needed"
   ]
  },
  {
   "cell_type": "code",
   "execution_count": 2,
   "metadata": {},
   "outputs": [],
   "source": [
    "def calc_num_matches(num_teams, matches_per_team):\n",
    "    \"\"\"Determines the number of qual matches needed in an FRC competition.\n",
    "    \n",
    "    Args:\n",
    "        num_teams: An integer representing the number of teams at an\n",
    "            FRC competition.\n",
    "        matches_per_team: The number of qualificaiton matches that each\n",
    "            individual team will play at a the compeition.\n",
    "            \n",
    "    Returns:\n",
    "        The number of qualification matches needed. If the return value\n",
    "        is an integer, no surrogates will be needed.\n",
    "    \"\"\"\n",
    "    # How many matches needed if only one team in every match?\n",
    "    team_matches = num_teams * matches_per_team\n",
    "    \n",
    "    # But there are six teams in every match!\n",
    "    return team_matches / 6"
   ]
  },
  {
   "cell_type": "code",
   "execution_count": 3,
   "metadata": {},
   "outputs": [
    {
     "data": {
      "text/plain": [
       "70.0"
      ]
     },
     "execution_count": 3,
     "metadata": {},
     "output_type": "execute_result"
    }
   ],
   "source": [
    "calc_num_matches(num_teams=35, matches_per_team=12)"
   ]
  },
  {
   "cell_type": "code",
   "execution_count": 6,
   "metadata": {},
   "outputs": [
    {
     "data": {
      "text/plain": [
       "93.0"
      ]
     },
     "execution_count": 6,
     "metadata": {},
     "output_type": "execute_result"
    }
   ],
   "source": [
    "calc_num_matches(num_teams=62, matches_per_team=9)"
   ]
  },
  {
   "cell_type": "code",
   "execution_count": 9,
   "metadata": {},
   "outputs": [
    {
     "data": {
      "text/plain": [
       "113.33333333333333"
      ]
     },
     "execution_count": 9,
     "metadata": {},
     "output_type": "execute_result"
    }
   ],
   "source": [
    "calc_num_matches(num_teams=68, matches_per_team=10)"
   ]
  },
  {
   "cell_type": "markdown",
   "metadata": {},
   "source": [
    "### Advanced Ex. #1\n",
    "Write a function that takes arguments and extracts data from the JSON used in session 2, does calculations, and returns a value. You choose what the function does. "
   ]
  },
  {
   "cell_type": "code",
   "execution_count": 42,
   "metadata": {},
   "outputs": [],
   "source": [
    "import json\n",
    "\n",
    "def breaks(team):\n",
    "    \"\"\"For one team, gets the number of matches between each assigned match.\n",
    "    \n",
    "    For any two consecutive matches that a team plays in, gets the number\n",
    "    of matches between the two matches that the team does not play in.\n",
    "    For example, if a team is assigned to qual matches 2 and 4, breaks()\n",
    "    returns 1 (there is 1 match between matches 2 and 4 that the team\n",
    "    does not play in).\n",
    "    \n",
    "    Args:\n",
    "        team: FRC team number as an integer, such as 1318, or 2557.\n",
    "        \n",
    "    Returns:\n",
    "        A list of integers representing the breaks in the schedule\n",
    "        for the specified team.\n",
    "    \"\"\"\n",
    "    sched_file = open('sched_turing_2018.json')\n",
    "    sched_data = json.load(sched_file)\n",
    "    sched_file.close()\n",
    "\n",
    "    matches = [None] * 10\n",
    "    idx = 0\n",
    "    for mtch in sched_data['Schedule']:\n",
    "        for tm in mtch['teams']:\n",
    "            if tm['teamNumber'] == team:\n",
    "                matches[idx] = mtch['matchNumber']\n",
    "                idx += 1\n",
    "                \n",
    "    breaks = [None] * 9\n",
    "    idx = 0\n",
    "    prev_mtch = matches[0]\n",
    "    for curr_mtch in matches[1:]:\n",
    "        breaks[idx] = curr_mtch - prev_mtch - 1\n",
    "        prev_mtch = curr_mtch\n",
    "        idx += 1\n",
    "    return breaks"
   ]
  },
  {
   "cell_type": "code",
   "execution_count": 44,
   "metadata": {},
   "outputs": [
    {
     "data": {
      "text/plain": [
       "[9, 11, 9, 10, 18, 11, 8, 5, 19]"
      ]
     },
     "execution_count": 44,
     "metadata": {},
     "output_type": "execute_result"
    }
   ],
   "source": [
    "breaks(1318)"
   ]
  },
  {
   "cell_type": "markdown",
   "metadata": {},
   "source": [
    "### Advanced Function Ex. #2\n",
    "Write a function that calculates the probability that in a group of N people, no two people will have the same birthday. (Ignore leap year and assume that all days of the year have equal probability for being someone’s birthday.)"
   ]
  },
  {
   "cell_type": "code",
   "execution_count": 18,
   "metadata": {},
   "outputs": [],
   "source": [
    "import math\n",
    "\n",
    "def bday(num_people):\n",
    "\"\"\"Calculates probability that no two people will have the same birthday.\n",
    "\n",
    "Args:\n",
    "    num_people: the number of people in the group (integer)\n",
    "    \n",
    "Returns:\n",
    "    The probability (float between 0 and 1) that no two people in the group\n",
    "    have the same birthday.\n",
    "\"\"\"\n",
    "    unique_combinations = math.factorial(365)/math.factorial(365 - num_people)\n",
    "    all_possible_combinations = 365**num_people\n",
    "\n",
    "    return unique_combinations / all_possible_combinations"
   ]
  },
  {
   "cell_type": "code",
   "execution_count": 20,
   "metadata": {},
   "outputs": [
    {
     "name": "stdout",
     "output_type": "stream",
     "text": [
      "0.4927027656760146\n"
     ]
    }
   ],
   "source": [
    "print(bday(23))"
   ]
  },
  {
   "cell_type": "markdown",
   "metadata": {},
   "source": [
    "### Advanced Function Ex. #3\n",
    "Write a function that takes the playoff alliance numbers as arguments (e.g., alliance #1, alliance #5, etc) and returns a string indicating the level at which those alliances would meet in the playoffs (e.g., finals, quarterfinals, etc.). This is a tricky one. *See page 104 of the Deep Space game manual if you are not sure what this exercise is asking for.*"
   ]
  },
  {
   "cell_type": "code",
   "execution_count": 25,
   "metadata": {},
   "outputs": [],
   "source": [
    "def playoff_lvl(al1, al2):\n",
    "    \"\"\"Determines when two alliances will meet in the playoffs.\n",
    "    \n",
    "    Args:\n",
    "        al1: The number of the first alliance, an integer ranging\n",
    "            form 1 to 8.\n",
    "        al2: The number of the second alliance, an integer ranging\n",
    "            form 1 to 8.\n",
    "            \n",
    "    Returns:\n",
    "        A string. Either 'never', 'quarter-finals', 'semi-finals',\n",
    "        of 'finals'.\n",
    "        \n",
    "    \"\"\"\n",
    "    # Must enter two different alliance numbers\n",
    "    if al1 == al2:\n",
    "        return 'never'\n",
    "    \n",
    "    # Check for quarterfinal matchups\n",
    "    for qf_mtch in [[1, 8], [4, 5], [2, 7], [3, 6]]:\n",
    "        if al1 in qf_mtch and al2 in qf_mtch:\n",
    "            return \"quarter-finals\"\n",
    "    \n",
    "    # Check for semifinal and final matchups\n",
    "    sf_red = [1, 8, 4, 5]\n",
    "    sf_blue = [2, 7, 3, 6]\n",
    "    al1_sf = 'red' if al1 in sf_red else 'blue'\n",
    "    al2_sf = 'red' if al2 in sf_red else 'blue'\n",
    "    if al1_sf == al2_sf:\n",
    "        return 'semi-finals'\n",
    "    else:\n",
    "        return 'finals'"
   ]
  },
  {
   "cell_type": "code",
   "execution_count": 24,
   "metadata": {},
   "outputs": [
    {
     "data": {
      "text/plain": [
       "'semi-finals'"
      ]
     },
     "execution_count": 24,
     "metadata": {},
     "output_type": "execute_result"
    }
   ],
   "source": [
    "playoff_lvl(1, 4)"
   ]
  },
  {
   "cell_type": "markdown",
   "metadata": {},
   "source": [
    "## Python Style Example"
   ]
  },
  {
   "cell_type": "code",
   "execution_count": 37,
   "metadata": {},
   "outputs": [],
   "source": [
    "def odd_or_even(input = None):\n",
    "    \n",
    "    \"\"\"The function odd_or_even determines if a\n",
    "    number is odd or even.\n",
    "    Args: (int) input, an integer\n",
    "    \"\"\"\n",
    "    print(\"We will now use the power of modern technology \" + \"to do something a seven-year-old can do with no trouble.\");\n",
    "    print() ; print()\n",
    "    if (input is None) :\n",
    "        print( \"Try entering a number next time!\")\n",
    "    elif not isinstance(input,int):\n",
    "      print(\"'{}' isn't an integer. Try again.\".format( input))\n",
    "    elif input%2 == 0:\n",
    "        print(str( input) + \" is even.\");\n",
    "    else:\n",
    "        print(\"{} is odd.\".format(input))      \n",
    "    "
   ]
  },
  {
   "cell_type": "code",
   "execution_count": 38,
   "metadata": {},
   "outputs": [
    {
     "name": "stdout",
     "output_type": "stream",
     "text": [
      "We will now use the power of modern technologyto do something a seven-year-old can do with no trouble.\n",
      "\n",
      "\n",
      "Try entering a number next time!\n"
     ]
    }
   ],
   "source": [
    "odd_or_even()"
   ]
  },
  {
   "cell_type": "code",
   "execution_count": 39,
   "metadata": {},
   "outputs": [
    {
     "name": "stdout",
     "output_type": "stream",
     "text": [
      "We will now use the power of modern technologyto do something a seven-year-old can do with no trouble.\n",
      "\n",
      "\n",
      "'one' isn't an integer. Try again.\n"
     ]
    }
   ],
   "source": [
    "odd_or_even(\"one\")"
   ]
  },
  {
   "cell_type": "code",
   "execution_count": 40,
   "metadata": {},
   "outputs": [
    {
     "name": "stdout",
     "output_type": "stream",
     "text": [
      "We will now use the power of modern technologyto do something a seven-year-old can do with no trouble.\n",
      "\n",
      "\n",
      "1 is odd.\n"
     ]
    }
   ],
   "source": [
    "odd_or_even(1)"
   ]
  },
  {
   "cell_type": "code",
   "execution_count": 41,
   "metadata": {},
   "outputs": [
    {
     "name": "stdout",
     "output_type": "stream",
     "text": [
      "We will now use the power of modern technologyto do something a seven-year-old can do with no trouble.\n",
      "\n",
      "\n",
      "2 is even.\n"
     ]
    }
   ],
   "source": [
    "odd_or_even(2)"
   ]
  },
  {
   "cell_type": "code",
   "execution_count": null,
   "metadata": {},
   "outputs": [],
   "source": []
  }
 ],
 "metadata": {
  "kernelspec": {
   "display_name": "Python 3",
   "language": "python",
   "name": "python3"
  },
  "language_info": {
   "codemirror_mode": {
    "name": "ipython",
    "version": 3
   },
   "file_extension": ".py",
   "mimetype": "text/x-python",
   "name": "python",
   "nbconvert_exporter": "python",
   "pygments_lexer": "ipython3",
   "version": "3.7.3"
  }
 },
 "nbformat": 4,
 "nbformat_minor": 2
}
