{
 "cells": [
  {
   "cell_type": "code",
   "execution_count": 1,
   "metadata": {},
   "outputs": [],
   "source": [
    "import json"
   ]
  },
  {
   "cell_type": "code",
   "execution_count": 3,
   "metadata": {},
   "outputs": [],
   "source": [
    "with open(\"districts.json\", \"r\") as file:\n",
    "    dist = json.load(file)"
   ]
  },
  {
   "cell_type": "code",
   "execution_count": 5,
   "metadata": {},
   "outputs": [
    {
     "data": {
      "text/plain": [
       "[{'abbreviation': 'chs',\n",
       "  'display_name': 'FIRST Chesapeake',\n",
       "  'key': '2017chs',\n",
       "  'year': 2017},\n",
       " {'abbreviation': 'fim',\n",
       "  'display_name': 'FIRST In Michigan',\n",
       "  'key': '2017fim',\n",
       "  'year': 2017},\n",
       " {'abbreviation': 'in',\n",
       "  'display_name': 'Indiana FIRST',\n",
       "  'key': '2017in',\n",
       "  'year': 2017},\n",
       " {'abbreviation': 'isr',\n",
       "  'display_name': 'FIRST Israel',\n",
       "  'key': '2017isr',\n",
       "  'year': 2017},\n",
       " {'abbreviation': 'mar',\n",
       "  'display_name': 'Mid-Atlantic Robotics',\n",
       "  'key': '2017mar',\n",
       "  'year': 2017},\n",
       " {'abbreviation': 'nc',\n",
       "  'display_name': 'North Carolina',\n",
       "  'key': '2017nc',\n",
       "  'year': 2017},\n",
       " {'abbreviation': 'ne',\n",
       "  'display_name': 'New England',\n",
       "  'key': '2017ne',\n",
       "  'year': 2017},\n",
       " {'abbreviation': 'ont',\n",
       "  'display_name': 'Ontario',\n",
       "  'key': '2017ont',\n",
       "  'year': 2017},\n",
       " {'abbreviation': 'pch',\n",
       "  'display_name': 'Peachtree',\n",
       "  'key': '2017pch',\n",
       "  'year': 2017},\n",
       " {'abbreviation': 'pnw',\n",
       "  'display_name': 'Pacific Northwest',\n",
       "  'key': '2017pnw',\n",
       "  'year': 2017}]"
      ]
     },
     "execution_count": 5,
     "metadata": {},
     "output_type": "execute_result"
    }
   ],
   "source": [
    "dist"
   ]
  },
  {
   "cell_type": "code",
   "execution_count": 6,
   "metadata": {},
   "outputs": [
    {
     "data": {
      "text/plain": [
       "['chs', 'fim', 'in', 'isr', 'mar', 'nc', 'ne', 'ont', 'pch', 'pnw']"
      ]
     },
     "execution_count": 6,
     "metadata": {},
     "output_type": "execute_result"
    }
   ],
   "source": [
    "[x[\"abbreviation\"] for x in dist]"
   ]
  },
  {
   "cell_type": "code",
   "execution_count": null,
   "metadata": {},
   "outputs": [],
   "source": []
  }
 ],
 "metadata": {
  "kernelspec": {
   "display_name": "Python 3",
   "language": "python",
   "name": "python3"
  },
  "language_info": {
   "codemirror_mode": {
    "name": "ipython",
    "version": 3
   },
   "file_extension": ".py",
   "mimetype": "text/x-python",
   "name": "python",
   "nbconvert_exporter": "python",
   "pygments_lexer": "ipython3",
   "version": "3.6.5"
  }
 },
 "nbformat": 4,
 "nbformat_minor": 2
}
