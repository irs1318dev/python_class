{
 "cells": [
  {
   "cell_type": "code",
   "execution_count": 1,
   "metadata": {},
   "outputs": [],
   "source": [
    "class BalanceBar():\n",
    "    \"\"\"Represents a switch or scale in the FIRST PowerUp game.\n",
    "    \n",
    "    Attributes:\n",
    "        name: A string that describes the BalanceBar\n",
    "        red_cubes: The number of cubes placed on the red side of the\n",
    "          bar (integer)\n",
    "        blue_cubes: The number of cubes placed on the blue side of the\n",
    "          bar (integer)\n",
    "          \n",
    "    Methods:\n",
    "        get_state: Reports which side the BalanceBar is tilted towards.\n",
    "        add_blue_cube: Adds cubes to the blue side of the bar\n",
    "        add_red_cube: Adds cubes the red side of the bar\n",
    "        knock_blue_cube: Removes cubes from the blue side of the bar\n",
    "        knock_red_cube: Removes cubes fron the red side of the bar \n",
    "        \n",
    "    Constructor Arguments:\n",
    "        name: A string that will be stored in the name attribute.  \n",
    "    \"\"\"\n",
    "    def __init__(self, name):\n",
    "        \"\"\"Constructs a BalanceBar object with a given name.\n",
    "        \"\"\"\n",
    "        self.name = name\n",
    "        self.red_cubes = 0\n",
    "        self.blue_cubes = 0\n",
    "        \n",
    "    def get_state(self):\n",
    "        \"\"\"Reports which side the BalanceBar is tilted towards.\n",
    "        \n",
    "        Returns:\n",
    "            String stating whether the BalanceBar is balanced or which\n",
    "            side it is balanced towards.\n",
    "        \"\"\"\n",
    "        if self.red_cubes == self.blue_cubes:\n",
    "            return self.name + ' is balanced'\n",
    "        elif self.red_cubes > self.blue_cubes:\n",
    "            return self.name + ' is tilted towards red'\n",
    "        else:\n",
    "            return self.name + ' is tilted towards blue'\n",
    "        \n",
    "    def add_blue_cube(self, num_cubes=1):\n",
    "        \"\"\"Adds one or more cubes to the blue side\n",
    "        \n",
    "        Args:\n",
    "            num_cubes: The number of cubes to add to the blue side.\n",
    "            Optional, defaults to 1.\n",
    "        \"\"\"\n",
    "        self.blue_cubes += num_cubes\n",
    "        \n",
    "    def add_red_cube(self, num_cubes=1):\n",
    "        \"\"\"Adds one or more cubes to the red side\n",
    "        \n",
    "        Args:\n",
    "            num_cubes: The number of cubes to add to the red side.\n",
    "            Optional, defaults to 1.\n",
    "        \"\"\"\n",
    "        self.red_cubes += num_cubes\n",
    "        \n",
    "    def knock_blue_cube(self, num_cubes=1):\n",
    "        \"\"\"Removes one or more cubes from the blue side\n",
    "        \n",
    "        Args:\n",
    "            num_cubes: The number of cubes to remove from the blue side.\n",
    "            Optional, defaults to 1.\n",
    "        \"\"\"\n",
    "        self.blue_cubes -= num_cubes\n",
    "        \n",
    "    def knock_red_cube(sel, num_cubes=1):\n",
    "        \"\"\"Removes one or more cubes from the red side\n",
    "        \n",
    "        Args:\n",
    "            num_cubes: The number of cubes to remove from the red side.\n",
    "            Optional, defaults to 1.\n",
    "        \"\"\"\n",
    "        self.red_cube -= num_cubes\n",
    "        \n",
    "    def __str__(self):\n",
    "        \"\"\"Returns the number of cubes on each side and the state.\n",
    "        \"\"\"\n",
    "        result = self.get_state() + '\\n'\n",
    "        result += '  Red Cubes: ' + str(self.red_cubes)\n",
    "        result += ',  Blue Cubes: ' + str(self.blue_cubes)\n",
    "        return result"
   ]
  },
  {
   "cell_type": "code",
   "execution_count": 2,
   "metadata": {},
   "outputs": [],
   "source": [
    "blue_switch = BalanceBar('Blue Switch')\n",
    "red_switch = BalanceBar('Red Switch')\n",
    "scale = BalanceBar('Scale')"
   ]
  },
  {
   "cell_type": "code",
   "execution_count": 3,
   "metadata": {},
   "outputs": [],
   "source": [
    "import random"
   ]
  },
  {
   "cell_type": "code",
   "execution_count": 4,
   "metadata": {},
   "outputs": [],
   "source": [
    "for balance_bar in [blue_switch, red_switch, scale]:\n",
    "    balance_bar.add_blue_cube(random.randint(0, 8))\n",
    "    balance_bar.add_red_cube(random.randint(0, 8))"
   ]
  },
  {
   "cell_type": "code",
   "execution_count": 5,
   "metadata": {},
   "outputs": [
    {
     "name": "stdout",
     "output_type": "stream",
     "text": [
      "Blue Switch is tilted towards red\n",
      "  Red Cubes: 8,  Blue Cubes: 5\n",
      "Red Switch is tilted towards red\n",
      "  Red Cubes: 8,  Blue Cubes: 2\n",
      "Scale is tilted towards blue\n",
      "  Red Cubes: 2,  Blue Cubes: 4\n"
     ]
    }
   ],
   "source": [
    "for balance_bar in [blue_switch, red_switch, scale]:\n",
    "    print(balance_bar)"
   ]
  },
  {
   "cell_type": "code",
   "execution_count": 18,
   "metadata": {},
   "outputs": [],
   "source": [
    "class ScoredBalanceBar(BalanceBar):\n",
    "        \n",
    "    def get_state(self):\n",
    "        if self.red_cubes == self.blue_cubes:\n",
    "            return 'balanced'\n",
    "        elif self.red_cubes > self.blue_cubes:\n",
    "            return 'red'\n",
    "        else:\n",
    "            return 'blue'\n",
    "               \n",
    "    def get_points(self, seconds):\n",
    "        points = {'blue': 0, 'red': 0}\n",
    "        state = self.get_state()\n",
    "        if state in points:\n",
    "            points[state] += seconds\n",
    "        return points"
   ]
  },
  {
   "cell_type": "code",
   "execution_count": 23,
   "metadata": {},
   "outputs": [
    {
     "data": {
      "text/plain": [
       "{'blue': 5, 'red': 0}"
      ]
     },
     "execution_count": 23,
     "metadata": {},
     "output_type": "execute_result"
    }
   ],
   "source": [
    "scale2 = ScoredBalanceBar('Scale')\n",
    "scale2.add_blue_cube()\n",
    "scale2.get_points(5)"
   ]
  }
 ],
 "metadata": {
  "kernelspec": {
   "display_name": "Python 3",
   "language": "python",
   "name": "python3"
  },
  "language_info": {
   "codemirror_mode": {
    "name": "ipython",
    "version": 3
   },
   "file_extension": ".py",
   "mimetype": "text/x-python",
   "name": "python",
   "nbconvert_exporter": "python",
   "pygments_lexer": "ipython3",
   "version": "3.7.3"
  }
 },
 "nbformat": 4,
 "nbformat_minor": 2
}
