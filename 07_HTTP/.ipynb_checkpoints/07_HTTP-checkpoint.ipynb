{
 "cells": [
  {
   "cell_type": "code",
   "execution_count": 19,
   "metadata": {},
   "outputs": [],
   "source": [
    "import urllib.request\n",
    "import json"
   ]
  },
  {
   "cell_type": "code",
   "execution_count": 39,
   "metadata": {},
   "outputs": [
    {
     "name": "stdout",
     "output_type": "stream",
     "text": [
      "200\n",
      "\n",
      "b'{\\n  \"args\": {}, \\n  \"data\": \"\", \\n  \"files\": {}, \\n  \"form\": {}, \\n  \"headers\": {\\n    \"Accept-Encoding\": \"identity\", \\n    \"Connection\": \"close\", \\n    \"Host\": \"httpbin.org\", \\n    \"User-Agent\": \"Python-urllib/3.6\"\\n  }, \\n  \"json\": null, \\n  \"method\": \"GET\", \\n  \"origin\": \"71.212.194.21\", \\n  \"url\": \"http://httpbin.org/anything/howdy\"\\n}\\n'\n",
      "\n",
      "Connection: close\n",
      "Server: gunicorn/19.9.0\n",
      "Date: Sat, 28 Jul 2018 18:10:27 GMT\n",
      "Content-Type: application/json\n",
      "Content-Length: 328\n",
      "Access-Control-Allow-Origin: *\n",
      "Access-Control-Allow-Credentials: true\n",
      "Via: 1.1 vegur\n",
      "\n",
      "\n"
     ]
    }
   ],
   "source": [
    "# Can pass number of characters (integer) to read() method\n",
    "with urllib.request.urlopen(\"http://httpbin.org/anything/howdy\") as resp:\n",
    "    print(resp.getcode())\n",
    "    print()\n",
    "    print(resp.read())\n",
    "    print()\n",
    "    print(resp.info())\n"
   ]
  },
  {
   "cell_type": "code",
   "execution_count": 20,
   "metadata": {},
   "outputs": [
    {
     "name": "stdout",
     "output_type": "stream",
     "text": [
      "{'slideshow': {'author': 'Yours Truly', 'date': 'date of publication', 'slides': [{'title': 'Wake up to WonderWidgets!', 'type': 'all'}, {'items': ['Why <em>WonderWidgets</em> are great', 'Who <em>buys</em> WonderWidgets'], 'title': 'Overview', 'type': 'all'}], 'title': 'Sample Slide Show'}}\n"
     ]
    }
   ],
   "source": [
    "with urllib.request.urlopen(\"http://httpbin.org/json\") as resp:\n",
    "    resp_json = json.loads(resp.read())\n",
    "    print(resp_json)"
   ]
  },
  {
   "cell_type": "code",
   "execution_count": 35,
   "metadata": {},
   "outputs": [
    {
     "name": "stdout",
     "output_type": "stream",
     "text": [
      "[]\n",
      "\n",
      "b'{\\n  \"args\": {}, \\n  \"headers\": {\\n    \"Accept-Encoding\": \"identity\", \\n    \"Connection\": \"close\", \\n    \"Host\": \"httpbin.org\", \\n    \"User-Agent\": \"Python-urllib/3.6\"\\n  }, \\n  \"origin\": \"71.212.194.21\", \\n  \"url\": \"http://httpbin.org/get\"\\n}\\n'\n"
     ]
    }
   ],
   "source": [
    "req = urllib.request.Request(\"http://httpbin.org/get\")\n",
    "print(req.header_items())\n",
    "print()\n",
    "with urllib.request.urlopen(req) as resp:\n",
    "    print(resp.read())"
   ]
  },
  {
   "cell_type": "code",
   "execution_count": null,
   "metadata": {},
   "outputs": [],
   "source": []
  }
 ],
 "metadata": {
  "kernelspec": {
   "display_name": "Python 3",
   "language": "python",
   "name": "python3"
  },
  "language_info": {
   "codemirror_mode": {
    "name": "ipython",
    "version": 3
   },
   "file_extension": ".py",
   "mimetype": "text/x-python",
   "name": "python",
   "nbconvert_exporter": "python",
   "pygments_lexer": "ipython3",
   "version": "3.6.5"
  }
 },
 "nbformat": 4,
 "nbformat_minor": 2
}
