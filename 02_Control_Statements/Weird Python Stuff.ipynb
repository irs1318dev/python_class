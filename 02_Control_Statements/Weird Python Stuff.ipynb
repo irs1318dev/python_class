{
 "cells": [
  {
   "cell_type": "code",
   "execution_count": 4,
   "metadata": {},
   "outputs": [
    {
     "data": {
      "text/plain": [
       "[[0], [0], [0], [0], [0], [0], [0], [0], [0], [0]]"
      ]
     },
     "execution_count": 4,
     "metadata": {},
     "output_type": "execute_result"
    }
   ],
   "source": [
    "zlist = [[0]] * 10\n",
    "zlist"
   ]
  },
  {
   "cell_type": "code",
   "execution_count": 5,
   "metadata": {},
   "outputs": [],
   "source": [
    "zlist[0][0] = 1"
   ]
  },
  {
   "cell_type": "code",
   "execution_count": 7,
   "metadata": {},
   "outputs": [
    {
     "data": {
      "text/plain": [
       "[[1], [1], [1], [1], [1], [1], [1], [1], [1], [1]]"
      ]
     },
     "execution_count": 7,
     "metadata": {},
     "output_type": "execute_result"
    }
   ],
   "source": [
    "zlist\n"
   ]
  },
  {
   "cell_type": "code",
   "execution_count": 12,
   "metadata": {},
   "outputs": [
    {
     "data": {
      "text/plain": [
       "140717190845216"
      ]
     },
     "execution_count": 12,
     "metadata": {},
     "output_type": "execute_result"
    }
   ],
   "source": [
    "var1 = 0\n",
    "id(var1)"
   ]
  },
  {
   "cell_type": "code",
   "execution_count": 13,
   "metadata": {},
   "outputs": [
    {
     "data": {
      "text/plain": [
       "140717190845216"
      ]
     },
     "execution_count": 13,
     "metadata": {},
     "output_type": "execute_result"
    }
   ],
   "source": [
    "var2 = 0\n",
    "id(var2)"
   ]
  },
  {
   "cell_type": "code",
   "execution_count": 14,
   "metadata": {},
   "outputs": [],
   "source": [
    "import sys"
   ]
  },
  {
   "cell_type": "code",
   "execution_count": 30,
   "metadata": {},
   "outputs": [
    {
     "name": "stdout",
     "output_type": "stream",
     "text": [
      "4143\n",
      "2163\n",
      "977\n",
      "451\n",
      "418\n",
      "215\n",
      "199\n",
      "137\n",
      "223\n",
      "128\n",
      "135\n",
      "127\n",
      "82\n",
      "46\n",
      "42\n",
      "48\n",
      "153\n",
      "49\n",
      "40\n",
      "43\n",
      "392\n",
      "39\n",
      "46\n",
      "40\n",
      "43\n",
      "36\n",
      "25\n",
      "28\n",
      "29\n",
      "20\n",
      "60\n",
      "43\n",
      "117\n",
      "42\n",
      "28\n",
      "20\n",
      "25\n",
      "23\n",
      "32\n",
      "29\n",
      "44\n",
      "28\n",
      "26\n",
      "23\n",
      "23\n",
      "24\n",
      "25\n",
      "21\n",
      "31\n",
      "26\n",
      "46\n",
      "20\n",
      "16\n",
      "20\n",
      "19\n",
      "24\n",
      "19\n",
      "16\n",
      "19\n",
      "14\n",
      "35\n",
      "18\n",
      "14\n",
      "15\n",
      "90\n",
      "14\n",
      "16\n",
      "7\n",
      "17\n",
      "12\n",
      "22\n",
      "17\n",
      "19\n",
      "13\n",
      "12\n",
      "17\n",
      "23\n",
      "13\n",
      "20\n",
      "20\n",
      "45\n",
      "13\n",
      "7\n",
      "7\n",
      "13\n",
      "16\n",
      "13\n",
      "12\n",
      "22\n",
      "12\n",
      "24\n",
      "17\n",
      "19\n",
      "12\n",
      "10\n",
      "119\n",
      "13\n",
      "12\n",
      "11\n",
      "8\n",
      "92\n",
      "26\n",
      "19\n",
      "13\n",
      "16\n",
      "19\n",
      "19\n",
      "18\n",
      "19\n",
      "13\n",
      "20\n",
      "19\n",
      "20\n",
      "15\n",
      "15\n",
      "23\n",
      "16\n",
      "15\n",
      "17\n",
      "15\n",
      "14\n",
      "22\n",
      "15\n",
      "10\n",
      "15\n",
      "15\n",
      "18\n",
      "25\n",
      "67\n",
      "24\n",
      "14\n",
      "11\n",
      "14\n",
      "13\n",
      "12\n",
      "126\n",
      "12\n",
      "14\n",
      "19\n",
      "12\n",
      "9\n",
      "10\n",
      "10\n",
      "11\n",
      "12\n",
      "10\n",
      "10\n",
      "10\n",
      "14\n",
      "10\n",
      "9\n",
      "10\n",
      "9\n",
      "9\n",
      "10\n",
      "10\n",
      "9\n",
      "9\n",
      "12\n",
      "8\n",
      "11\n",
      "10\n",
      "9\n",
      "9\n",
      "9\n",
      "9\n",
      "9\n",
      "8\n",
      "11\n",
      "9\n",
      "8\n",
      "8\n",
      "9\n",
      "8\n",
      "8\n",
      "118\n",
      "9\n",
      "8\n",
      "12\n",
      "9\n",
      "8\n",
      "12\n",
      "9\n",
      "12\n",
      "8\n",
      "9\n",
      "8\n",
      "8\n",
      "11\n",
      "8\n",
      "8\n",
      "9\n",
      "9\n",
      "8\n",
      "9\n",
      "9\n",
      "9\n",
      "9\n",
      "11\n",
      "8\n",
      "21\n",
      "11\n",
      "12\n",
      "12\n",
      "11\n",
      "27\n",
      "11\n",
      "11\n",
      "13\n",
      "9\n",
      "9\n",
      "9\n",
      "10\n",
      "9\n",
      "8\n",
      "118\n",
      "8\n",
      "10\n",
      "14\n",
      "9\n",
      "8\n",
      "9\n",
      "9\n",
      "9\n",
      "9\n",
      "9\n",
      "11\n",
      "10\n",
      "10\n",
      "16\n",
      "8\n",
      "15\n",
      "12\n",
      "8\n",
      "13\n",
      "9\n",
      "9\n",
      "8\n",
      "10\n",
      "8\n",
      "8\n",
      "9\n",
      "9\n",
      "9\n",
      "9\n",
      "9\n",
      "8\n",
      "8\n",
      "8\n",
      "9\n",
      "10\n",
      "10\n",
      "9\n",
      "9\n",
      "7\n"
     ]
    }
   ],
   "source": [
    "for idx in range(255):\n",
    "    print(sys.getrefcount(idx))"
   ]
  },
  {
   "cell_type": "code",
   "execution_count": 21,
   "metadata": {},
   "outputs": [
    {
     "data": {
      "text/plain": [
       "1889993445448"
      ]
     },
     "execution_count": 21,
     "metadata": {},
     "output_type": "execute_result"
    }
   ],
   "source": [
    "id(zlist)"
   ]
  },
  {
   "cell_type": "code",
   "execution_count": 22,
   "metadata": {},
   "outputs": [],
   "source": [
    "zlist2 = zlist"
   ]
  },
  {
   "cell_type": "code",
   "execution_count": 23,
   "metadata": {},
   "outputs": [
    {
     "data": {
      "text/plain": [
       "1889993445448"
      ]
     },
     "execution_count": 23,
     "metadata": {},
     "output_type": "execute_result"
    }
   ],
   "source": [
    "id(zlist2)"
   ]
  },
  {
   "cell_type": "code",
   "execution_count": 24,
   "metadata": {},
   "outputs": [
    {
     "data": {
      "text/plain": [
       "1889993448968"
      ]
     },
     "execution_count": 24,
     "metadata": {},
     "output_type": "execute_result"
    }
   ],
   "source": [
    "zlist2 = zlist2[:]\n",
    "id(zlist2)"
   ]
  },
  {
   "cell_type": "code",
   "execution_count": null,
   "metadata": {},
   "outputs": [],
   "source": []
  }
 ],
 "metadata": {
  "kernelspec": {
   "display_name": "Python 3",
   "language": "python",
   "name": "python3"
  },
  "language_info": {
   "codemirror_mode": {
    "name": "ipython",
    "version": 3
   },
   "file_extension": ".py",
   "mimetype": "text/x-python",
   "name": "python",
   "nbconvert_exporter": "python",
   "pygments_lexer": "ipython3",
   "version": "3.7.3"
  }
 },
 "nbformat": 4,
 "nbformat_minor": 2
}
