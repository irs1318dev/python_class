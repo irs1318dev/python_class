{
 "cells": [
  {
   "cell_type": "code",
   "execution_count": 1,
   "metadata": {
    "hide_input": true,
    "init_cell": true
   },
   "outputs": [],
   "source": [
    "import IPython.display\n",
    "import ipywidgets as widgets\n",
    "\n",
    "import server.model.event as sme"
   ]
  },
  {
   "cell_type": "code",
   "execution_count": 2,
   "metadata": {
    "hide_input": true,
    "init_cell": true
   },
   "outputs": [
    {
     "data": {
      "application/vnd.jupyter.widget-view+json": {
       "model_id": "134d8ca1835c454297de97da1d1e887c",
       "version_major": 2,
       "version_minor": 0
      },
      "text/plain": [
       "HBox(children=(Text(value='', description='Event'), IntText(value=2018, description='Season'), Button(descript…"
      ]
     },
     "metadata": {},
     "output_type": "display_data"
    }
   ],
   "source": [
    "event_set_txt = widgets.Text(description=\"Event\")\n",
    "season_set_itx = widgets.IntText(description=\"Season\", value=2018)\n",
    "set_btn = widgets.Button(description=\"SET EVENT\")\n",
    "IPython.display.display(widgets.HBox([event_set_txt, season_set_itx, set_btn]))\n",
    "\n",
    "def set_event(b):\n",
    "    sme.EventDal.set_current_event(event_set_txt.value, season_set_itx.value)   \n",
    "    \n",
    "set_btn.on_click(set_event)"
   ]
  },
  {
   "cell_type": "code",
   "execution_count": 3,
   "metadata": {
    "hide_input": false
   },
   "outputs": [
    {
     "data": {
      "text/html": [
       "\n",
       "    <font color='indigo'>\n",
       "    <div style='background-color: gold'>\n",
       "    <h3>Event: \n",
       "wayak, 2018</h3><b>ID: </b>25167</div></font>"
      ],
      "text/plain": [
       "<IPython.core.display.HTML object>"
      ]
     },
     "execution_count": 3,
     "metadata": {},
     "output_type": "execute_result"
    }
   ],
   "source": [
    "curr_evt = sme.EventDal.get_current_event()\n",
    "evt_html = ('''\n",
    "    <font color='indigo'>\n",
    "    <div style='background-color: gold'>\n",
    "    <h3>Event: \n",
    "''' + curr_evt[1] + \", \" + curr_evt[2] + \"</h3>\" +\n",
    "    \"<b>ID: </b>\" + str(curr_evt[0]) + \"</div></font>\")\n",
    "IPython.display.HTML(evt_html)"
   ]
  },
  {
   "cell_type": "code",
   "execution_count": null,
   "metadata": {},
   "outputs": [],
   "source": []
  }
 ],
 "metadata": {
  "celltoolbar": "Initialization Cell",
  "kernelspec": {
   "display_name": "Python 3",
   "language": "python",
   "name": "python3"
  },
  "language_info": {
   "codemirror_mode": {
    "name": "ipython",
    "version": 3
   },
   "file_extension": ".py",
   "mimetype": "text/x-python",
   "name": "python",
   "nbconvert_exporter": "python",
   "pygments_lexer": "ipython3",
   "version": "3.6.8"
  }
 },
 "nbformat": 4,
 "nbformat_minor": 2
}
